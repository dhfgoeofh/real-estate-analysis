{
 "cells": [
  {
   "cell_type": "markdown",
   "metadata": {},
   "source": [
    "## 실시간 소통정보 api 활용하기"
   ]
  },
  {
   "cell_type": "code",
   "execution_count": null,
   "metadata": {},
   "outputs": [],
   "source": [
    "api_Key = 'a1bd0a6e17af47038cca7875306ad6d6'\n",
    "request_URL = 'https://openapi.its.go.kr:9443/trafficInfo?apiKey={}&type=its&minX={}&maxX={}&minY={}&maxY={}&getType=json'.format(api_Key, minX, maxX, minY, maxY)"
   ]
  },
  {
   "cell_type": "markdown",
   "metadata": {},
   "source": [
    "### 기준 좌표로 부터 일정거리(m)만큼 떨어진 격자 좌표 영역 계산하기"
   ]
  },
  {
   "cell_type": "code",
   "execution_count": 1,
   "metadata": {},
   "outputs": [],
   "source": [
    "def get_grid_points(x, y, distance = 500):\n",
    "    per_lat = (110941 + 111034) / 2 #(km)\n",
    "    per_lon = (91290 + 85397) / 2   #(km)\n",
    "    minX = x - ((distance/2) / per_lat)\n",
    "    maxX = x + ((distance/2) / per_lat)\n",
    "    minY = y - ((distance/2) / per_lon)\n",
    "    maxY = y + ((distance/2) / per_lon)\n",
    "    return minX, maxX, minY, maxY"
   ]
  },
  {
   "cell_type": "code",
   "execution_count": 2,
   "metadata": {},
   "outputs": [
    {
     "ename": "SyntaxError",
     "evalue": "invalid syntax (366169805.py, line 2)",
     "output_type": "error",
     "traceback": [
      "\u001b[1;36m  Cell \u001b[1;32mIn[2], line 2\u001b[1;36m\u001b[0m\n\u001b[1;33m    self.api_Key =\u001b[0m\n\u001b[1;37m                  ^\u001b[0m\n\u001b[1;31mSyntaxError\u001b[0m\u001b[1;31m:\u001b[0m invalid syntax\n"
     ]
    }
   ],
   "source": [
    "class trafficAPI:\n",
    "    def __init__(self, api_key):\n",
    "        self.api_Key = api_key\n",
    "        self.hearder = 'apiKey={}'.format(api_key)\n",
    "\n",
    "        self.URL = 'https://openapi.its.go.kr:9443/trafficInfo'\n",
    "    \n",
    "    def search_road():\n",
    "        \n"
   ]
  },
  {
   "cell_type": "code",
   "execution_count": null,
   "metadata": {},
   "outputs": [],
   "source": []
  }
 ],
 "metadata": {
  "kernelspec": {
   "display_name": "Python 3.8.12 ('daero')",
   "language": "python",
   "name": "python3"
  },
  "language_info": {
   "codemirror_mode": {
    "name": "ipython",
    "version": 3
   },
   "file_extension": ".py",
   "mimetype": "text/x-python",
   "name": "python",
   "nbconvert_exporter": "python",
   "pygments_lexer": "ipython3",
   "version": "3.8.12"
  },
  "orig_nbformat": 4,
  "vscode": {
   "interpreter": {
    "hash": "5a1908709e1030e0adc91784846aa75d93e321834b2e9c6275b0fdbfe3c7a89f"
   }
  }
 },
 "nbformat": 4,
 "nbformat_minor": 2
}
