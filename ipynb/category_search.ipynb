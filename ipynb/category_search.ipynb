{
 "cells": [
  {
   "cell_type": "code",
   "execution_count": null,
   "metadata": {},
   "outputs": [],
   "source": [
    "import json\n",
    "import requests\n",
    "\n",
    "class KakaoLocalAPI:\n",
    "    \"\"\"\n",
    "    Kakao Local API 컨트롤러\n",
    "    \"\"\"\n",
    "\n",
    "    def __init__(self, rest_api_key):\n",
    "        \"\"\"\n",
    "        Rest API키 초기화 및 기능 별 URL 설정\n",
    "        \"\"\"\n",
    "\n",
    "        # REST API 키 설정\n",
    "        self.rest_api_key = rest_api_key\n",
    "        self.headers = {\"Authorization\": \"KakaoAK {}\".format(rest_api_key)}\n",
    "\n",
    "        # 서비스 별 URL 설정\n",
    "\n",
    "        # 01 주소 검색\n",
    "        self.URL_01 = \"https://dapi.kakao.com/v2/local/search/address.json\"\n",
    "        # 02 좌표-행정구역정보 변환\n",
    "        self.URL_02 = \"https://dapi.kakao.com/v2/local/geo/coord2regioncode.json\"\n",
    "        # 03 좌표-주소 변환\n",
    "        self.URL_03 = \"https://dapi.kakao.com/v2/local/geo/coord2address.json\"\n",
    "        # 04 좌표계 변환\n",
    "        self.URL_04 = \"https://dapi.kakao.com/v2/local/geo/transcoord.json\"\n",
    "        # 05 키워드 검색\n",
    "        self.URL_05 = \"https://dapi.kakao.com/v2/local/search/keyword.json\"\n",
    "        # 06 카테고리 검색\n",
    "        self.URL_06 = \"https://dapi.kakao.com/v2/local/search/category.json\""
   ]
  },
  {
   "cell_type": "code",
   "execution_count": null,
   "metadata": {},
   "outputs": [],
   "source": [
    "# REST API 키\n",
    "rest_api_key = \"REST API KEY\"\n",
    "\n",
    "kakao = KakaoLocalAPI(rest_api_key)"
   ]
  },
  {
   "cell_type": "code",
   "execution_count": null,
   "metadata": {},
   "outputs": [],
   "source": [
    "# 카테고리 검색 메서드\n",
    "def search_category(self, category_group_code, x, y, radius=None, rect=None, page=None, size=None, sort=None):\n",
    "        \"\"\"\n",
    "        06 카테고리 검색\n",
    "        \"\"\"\n",
    "        params = {'category_group_code': f\"{category_group_code}\",\n",
    "                  'x': f\"{x}\",\n",
    "                  'y': f\"{y}\"}\n",
    "        \n",
    "        if radius != None:\n",
    "            params['radius'] = f\"{radius}\"\n",
    "        if rect != None:\n",
    "            params['rect'] = f\"{rect}\"\n",
    "        if page != None:\n",
    "            params['page'] = f\"{page}\"\n",
    "        if size != None:\n",
    "            params['size'] = f\"{size}\"\n",
    "        if sort != None:\n",
    "            params['sort'] = f\"{sort}\"\n",
    "            \n",
    "        res = requests.get(self.URL_06, headers=self.headers, params=params)\n",
    "        document = json.loads(res.text)\n",
    "        \n",
    "        return document"
   ]
  },
  {
   "cell_type": "code",
   "execution_count": null,
   "metadata": {},
   "outputs": [],
   "source": [
    "## 카테고리별 검색\n",
    "## Set params\n",
    "category_group_code = \"MT1\"\n",
    "x = 'latitude'\n",
    "y = 'longitude'\n",
    "# 검색할 범위\n",
    "radius = 'radius(m)'\n",
    "\n",
    "## Request\n",
    "result_6 = kakao.search_category(category_group_code, x, y, radius)\n",
    "result_6"
   ]
  }
 ],
 "metadata": {
  "language_info": {
   "name": "python"
  },
  "orig_nbformat": 4
 },
 "nbformat": 4,
 "nbformat_minor": 2
}
