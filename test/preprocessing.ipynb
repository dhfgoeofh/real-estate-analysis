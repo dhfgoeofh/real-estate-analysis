{
 "cells": [
  {
   "cell_type": "markdown",
   "metadata": {},
   "source": [
    "### 환경 불러오기"
   ]
  },
  {
   "cell_type": "code",
   "execution_count": 16,
   "metadata": {},
   "outputs": [],
   "source": [
    "import pandas as pd\n",
    "import numpy as np\n",
    "import os\n",
    "import requests\n",
    "import json\n",
    "# copywarning ignore\n",
    "import warnings\n",
    "#from pandas.core.common import SettingWithCopyWarning\n",
    "#warnings.simplefilter(action=\"ignore\", category=SettingWithCopyWarning)"
   ]
  },
  {
   "cell_type": "markdown",
   "metadata": {},
   "source": [
    "#### 오피스텔 도로명 주소 Geocoding - 위도, 경도 추출"
   ]
  },
  {
   "cell_type": "code",
   "execution_count": 25,
   "metadata": {},
   "outputs": [],
   "source": [
    "api_key = '79d3d40921cad65ee45ee1059c974972'\n",
    "\n",
    "def addr_to_lat_lon(addr):\n",
    "    url = 'https://dapi.kakao.com/v2/local/search/address.json?query={address}'.format(address=addr)\n",
    "    headers = {\"Authorization\": \"KakaoAK \" + api_key}\n",
    "    result = json.loads(str(requests.get(url, headers=headers).text))\n",
    "    try:\n",
    "        match_first = result['documents'][0]['road_address']\n",
    "        return float(match_first['x']), float(match_first['y'])\n",
    "    except:\n",
    "        return 0, 0\n",
    "\n",
    "def get_lat_lon(df):\n",
    "    for i in range(0, len(df)):\n",
    "        try:\n",
    "            addr = df.iloc[i]['시군구'] + \" \" + df.iloc[i]['도로명']\n",
    "            x, y = addr_to_lat_lon(addr)\n",
    "        except:\n",
    "            x, y = 0, 0\n",
    "        df['longitude'].iloc[i] = x\n",
    "        df['latitude'].iloc[i] = y\n",
    "    "
   ]
  },
  {
   "cell_type": "markdown",
   "metadata": {},
   "source": [
    "### 오피스텔 실거래 데이터 불러오기(2022.03 ~ 2023.02)"
   ]
  },
  {
   "cell_type": "code",
   "execution_count": 26,
   "metadata": {},
   "outputs": [
    {
     "name": "stderr",
     "output_type": "stream",
     "text": [
      "C:\\Users\\dhfgo\\AppData\\Local\\Temp\\ipykernel_13456\\4107615977.py:20: SettingWithCopyWarning: \n",
      "A value is trying to be set on a copy of a slice from a DataFrame\n",
      "\n",
      "See the caveats in the documentation: https://pandas.pydata.org/pandas-docs/stable/user_guide/indexing.html#returning-a-view-versus-a-copy\n",
      "  df['longitude'].iloc[i] = x\n",
      "C:\\Users\\dhfgo\\AppData\\Local\\Temp\\ipykernel_13456\\4107615977.py:21: SettingWithCopyWarning: \n",
      "A value is trying to be set on a copy of a slice from a DataFrame\n",
      "\n",
      "See the caveats in the documentation: https://pandas.pydata.org/pandas-docs/stable/user_guide/indexing.html#returning-a-view-versus-a-copy\n",
      "  df['latitude'].iloc[i] = y\n"
     ]
    }
   ],
   "source": [
    "# officetels 폴더에 있는 모든 파일명 리스트로 저장\n",
    "off_forders = os.listdir('../data/officetels')\n",
    "# csv 파일을 모두 불러와서 병합\n",
    "df_officetels = pd.DataFrame()\n",
    "\n",
    "for i in range(0, 2):\n",
    "    if off_forders[i].split('.')[1] == 'csv':\n",
    "        file = '../data/officetels/'+off_forders[i]\n",
    "        # csv파일의 불필요한 주석정보 제거\n",
    "        sub_df = pd.read_csv(file, encoding='CP949',skiprows=15)\n",
    "        sub_df['도로명'].replace(' ',np.nan, inplace=True)\n",
    "        sub_df.dropna(subset=['도로명'],axis=0,inplace=True)\n",
    "        sub_df.insert(14,'latitude',[np.NaN for k in range(0,len(sub_df))])\n",
    "        sub_df.insert(14,'longitude',[np.NaN for k in range(0,len(sub_df))])\n",
    "        get_lat_lon(sub_df)\n",
    "        # concat함수로 행을 추가하며 병합\n",
    "        sub_df.to_csv(file, encoding='CP949',index=False)\n",
    "        df_officetels = pd.concat([df_officetels, sub_df], ignore_index=True)\n",
    "        print(i,'complete')\n",
    "# 도로명 주소가 없는 행은 제거\n",
    "df_officetels"
   ]
  },
  {
   "cell_type": "code",
   "execution_count": null,
   "metadata": {},
   "outputs": [
    {
     "name": "stderr",
     "output_type": "stream",
     "text": [
      "C:\\Users\\dhfgo\\AppData\\Local\\Temp\\ipykernel_13456\\626319627.py:20: SettingWithCopyWarning: \n",
      "A value is trying to be set on a copy of a slice from a DataFrame\n",
      "\n",
      "See the caveats in the documentation: https://pandas.pydata.org/pandas-docs/stable/user_guide/indexing.html#returning-a-view-versus-a-copy\n",
      "  df['longitude'].iloc[i] = x\n",
      "C:\\Users\\dhfgo\\AppData\\Local\\Temp\\ipykernel_13456\\626319627.py:21: SettingWithCopyWarning: \n",
      "A value is trying to be set on a copy of a slice from a DataFrame\n",
      "\n",
      "See the caveats in the documentation: https://pandas.pydata.org/pandas-docs/stable/user_guide/indexing.html#returning-a-view-versus-a-copy\n",
      "  df['latitude'].iloc[i] = y\n"
     ]
    },
    {
     "name": "stdout",
     "output_type": "stream",
     "text": [
      "2 complete\n"
     ]
    },
    {
     "name": "stderr",
     "output_type": "stream",
     "text": [
      "C:\\Users\\dhfgo\\AppData\\Local\\Temp\\ipykernel_13456\\626319627.py:20: SettingWithCopyWarning: \n",
      "A value is trying to be set on a copy of a slice from a DataFrame\n",
      "\n",
      "See the caveats in the documentation: https://pandas.pydata.org/pandas-docs/stable/user_guide/indexing.html#returning-a-view-versus-a-copy\n",
      "  df['longitude'].iloc[i] = x\n",
      "C:\\Users\\dhfgo\\AppData\\Local\\Temp\\ipykernel_13456\\626319627.py:21: SettingWithCopyWarning: \n",
      "A value is trying to be set on a copy of a slice from a DataFrame\n",
      "\n",
      "See the caveats in the documentation: https://pandas.pydata.org/pandas-docs/stable/user_guide/indexing.html#returning-a-view-versus-a-copy\n",
      "  df['latitude'].iloc[i] = y\n"
     ]
    },
    {
     "name": "stdout",
     "output_type": "stream",
     "text": [
      "3 complete\n"
     ]
    }
   ],
   "source": [
    "for i in range(2, 4):\n",
    "    if off_forders[i].split('.')[1] == 'csv':\n",
    "        file = '../data/officetels/'+off_forders[i]\n",
    "        # csv파일의 불필요한 주석정보 제거\n",
    "        sub_df = pd.read_csv(file, encoding='CP949',skiprows=15)\n",
    "        sub_df['도로명'].replace(' ',np.nan, inplace=True)\n",
    "        sub_df.dropna(subset=['도로명'],axis=0,inplace=True)\n",
    "        sub_df.insert(14,'latitude',[np.NaN for k in range(0,len(sub_df))])\n",
    "        sub_df.insert(14,'longitude',[np.NaN for k in range(0,len(sub_df))])\n",
    "        get_lat_lon(sub_df)\n",
    "        # concat함수로 행을 추가하며 병합\n",
    "        sub_df.to_csv(file, encoding='CP949',index=False)\n",
    "        df_officetels = pd.concat([df_officetels, sub_df], ignore_index=True)\n",
    "        print(i,'complete')"
   ]
  },
  {
   "cell_type": "code",
   "execution_count": null,
   "metadata": {},
   "outputs": [
    {
     "name": "stderr",
     "output_type": "stream",
     "text": [
      "C:\\Users\\dhfgo\\AppData\\Local\\Temp\\ipykernel_13456\\626319627.py:20: SettingWithCopyWarning: \n",
      "A value is trying to be set on a copy of a slice from a DataFrame\n",
      "\n",
      "See the caveats in the documentation: https://pandas.pydata.org/pandas-docs/stable/user_guide/indexing.html#returning-a-view-versus-a-copy\n",
      "  df['longitude'].iloc[i] = x\n",
      "C:\\Users\\dhfgo\\AppData\\Local\\Temp\\ipykernel_13456\\626319627.py:21: SettingWithCopyWarning: \n",
      "A value is trying to be set on a copy of a slice from a DataFrame\n",
      "\n",
      "See the caveats in the documentation: https://pandas.pydata.org/pandas-docs/stable/user_guide/indexing.html#returning-a-view-versus-a-copy\n",
      "  df['latitude'].iloc[i] = y\n"
     ]
    },
    {
     "name": "stdout",
     "output_type": "stream",
     "text": [
      "4 complete\n"
     ]
    },
    {
     "name": "stderr",
     "output_type": "stream",
     "text": [
      "C:\\Users\\dhfgo\\AppData\\Local\\Temp\\ipykernel_13456\\626319627.py:20: SettingWithCopyWarning: \n",
      "A value is trying to be set on a copy of a slice from a DataFrame\n",
      "\n",
      "See the caveats in the documentation: https://pandas.pydata.org/pandas-docs/stable/user_guide/indexing.html#returning-a-view-versus-a-copy\n",
      "  df['longitude'].iloc[i] = x\n",
      "C:\\Users\\dhfgo\\AppData\\Local\\Temp\\ipykernel_13456\\626319627.py:21: SettingWithCopyWarning: \n",
      "A value is trying to be set on a copy of a slice from a DataFrame\n",
      "\n",
      "See the caveats in the documentation: https://pandas.pydata.org/pandas-docs/stable/user_guide/indexing.html#returning-a-view-versus-a-copy\n",
      "  df['latitude'].iloc[i] = y\n"
     ]
    },
    {
     "name": "stdout",
     "output_type": "stream",
     "text": [
      "5 complete\n"
     ]
    }
   ],
   "source": [
    "for i in range(4, 6):\n",
    "    if off_forders[i].split('.')[1] == 'csv':\n",
    "        file = '../data/officetels/'+off_forders[i]\n",
    "        # csv파일의 불필요한 주석정보 제거\n",
    "        sub_df = pd.read_csv(file, encoding='CP949',skiprows=15)\n",
    "        sub_df['도로명'].replace(' ',np.nan, inplace=True)\n",
    "        sub_df.dropna(subset=['도로명'],axis=0,inplace=True)\n",
    "        sub_df.insert(14,'latitude',[np.NaN for k in range(0,len(sub_df))])\n",
    "        sub_df.insert(14,'longitude',[np.NaN for k in range(0,len(sub_df))])\n",
    "        get_lat_lon(sub_df)\n",
    "        # concat함수로 행을 추가하며 병합\n",
    "        sub_df.to_csv(file, encoding='CP949',index=False)\n",
    "        df_officetels = pd.concat([df_officetels, sub_df], ignore_index=True)\n",
    "        print(i,'complete')"
   ]
  },
  {
   "cell_type": "code",
   "execution_count": null,
   "metadata": {},
   "outputs": [
    {
     "name": "stderr",
     "output_type": "stream",
     "text": [
      "C:\\Users\\dhfgo\\AppData\\Local\\Temp\\ipykernel_13456\\626319627.py:20: SettingWithCopyWarning: \n",
      "A value is trying to be set on a copy of a slice from a DataFrame\n",
      "\n",
      "See the caveats in the documentation: https://pandas.pydata.org/pandas-docs/stable/user_guide/indexing.html#returning-a-view-versus-a-copy\n",
      "  df['longitude'].iloc[i] = x\n",
      "C:\\Users\\dhfgo\\AppData\\Local\\Temp\\ipykernel_13456\\626319627.py:21: SettingWithCopyWarning: \n",
      "A value is trying to be set on a copy of a slice from a DataFrame\n",
      "\n",
      "See the caveats in the documentation: https://pandas.pydata.org/pandas-docs/stable/user_guide/indexing.html#returning-a-view-versus-a-copy\n",
      "  df['latitude'].iloc[i] = y\n"
     ]
    },
    {
     "name": "stdout",
     "output_type": "stream",
     "text": [
      "6 complete\n"
     ]
    },
    {
     "name": "stderr",
     "output_type": "stream",
     "text": [
      "C:\\Users\\dhfgo\\AppData\\Local\\Temp\\ipykernel_13456\\626319627.py:20: SettingWithCopyWarning: \n",
      "A value is trying to be set on a copy of a slice from a DataFrame\n",
      "\n",
      "See the caveats in the documentation: https://pandas.pydata.org/pandas-docs/stable/user_guide/indexing.html#returning-a-view-versus-a-copy\n",
      "  df['longitude'].iloc[i] = x\n",
      "C:\\Users\\dhfgo\\AppData\\Local\\Temp\\ipykernel_13456\\626319627.py:21: SettingWithCopyWarning: \n",
      "A value is trying to be set on a copy of a slice from a DataFrame\n",
      "\n",
      "See the caveats in the documentation: https://pandas.pydata.org/pandas-docs/stable/user_guide/indexing.html#returning-a-view-versus-a-copy\n",
      "  df['latitude'].iloc[i] = y\n"
     ]
    },
    {
     "name": "stdout",
     "output_type": "stream",
     "text": [
      "7 complete\n"
     ]
    }
   ],
   "source": [
    "for i in range(6, 8):\n",
    "    if off_forders[i].split('.')[1] == 'csv':\n",
    "        file = '../data/officetels/'+off_forders[i]\n",
    "        # csv파일의 불필요한 주석정보 제거\n",
    "        sub_df = pd.read_csv(file, encoding='CP949',skiprows=15)\n",
    "        sub_df['도로명'].replace(' ',np.nan, inplace=True)\n",
    "        sub_df.dropna(subset=['도로명'],axis=0,inplace=True)\n",
    "        sub_df.insert(14,'latitude',[np.NaN for k in range(0,len(sub_df))])\n",
    "        sub_df.insert(14,'longitude',[np.NaN for k in range(0,len(sub_df))])\n",
    "        get_lat_lon(sub_df)\n",
    "        # concat함수로 행을 추가하며 병합\n",
    "        sub_df.to_csv(file, encoding='CP949',index=False)\n",
    "        df_officetels = pd.concat([df_officetels, sub_df], ignore_index=True)\n",
    "        print(i,'complete')"
   ]
  },
  {
   "cell_type": "code",
   "execution_count": null,
   "metadata": {},
   "outputs": [
    {
     "name": "stderr",
     "output_type": "stream",
     "text": [
      "C:\\Users\\dhfgo\\AppData\\Local\\Temp\\ipykernel_13456\\626319627.py:20: SettingWithCopyWarning: \n",
      "A value is trying to be set on a copy of a slice from a DataFrame\n",
      "\n",
      "See the caveats in the documentation: https://pandas.pydata.org/pandas-docs/stable/user_guide/indexing.html#returning-a-view-versus-a-copy\n",
      "  df['longitude'].iloc[i] = x\n",
      "C:\\Users\\dhfgo\\AppData\\Local\\Temp\\ipykernel_13456\\626319627.py:21: SettingWithCopyWarning: \n",
      "A value is trying to be set on a copy of a slice from a DataFrame\n",
      "\n",
      "See the caveats in the documentation: https://pandas.pydata.org/pandas-docs/stable/user_guide/indexing.html#returning-a-view-versus-a-copy\n",
      "  df['latitude'].iloc[i] = y\n"
     ]
    },
    {
     "name": "stdout",
     "output_type": "stream",
     "text": [
      "8 complete\n"
     ]
    },
    {
     "name": "stderr",
     "output_type": "stream",
     "text": [
      "C:\\Users\\dhfgo\\AppData\\Local\\Temp\\ipykernel_13456\\626319627.py:20: SettingWithCopyWarning: \n",
      "A value is trying to be set on a copy of a slice from a DataFrame\n",
      "\n",
      "See the caveats in the documentation: https://pandas.pydata.org/pandas-docs/stable/user_guide/indexing.html#returning-a-view-versus-a-copy\n",
      "  df['longitude'].iloc[i] = x\n",
      "C:\\Users\\dhfgo\\AppData\\Local\\Temp\\ipykernel_13456\\626319627.py:21: SettingWithCopyWarning: \n",
      "A value is trying to be set on a copy of a slice from a DataFrame\n",
      "\n",
      "See the caveats in the documentation: https://pandas.pydata.org/pandas-docs/stable/user_guide/indexing.html#returning-a-view-versus-a-copy\n",
      "  df['latitude'].iloc[i] = y\n"
     ]
    },
    {
     "name": "stdout",
     "output_type": "stream",
     "text": [
      "9 complete\n"
     ]
    }
   ],
   "source": [
    "for i in range(8, 10):\n",
    "    if off_forders[i].split('.')[1] == 'csv':\n",
    "        file = '../data/officetels/'+off_forders[i]\n",
    "        # csv파일의 불필요한 주석정보 제거\n",
    "        sub_df = pd.read_csv(file, encoding='CP949',skiprows=15)\n",
    "        sub_df['도로명'].replace(' ',np.nan, inplace=True)\n",
    "        sub_df.dropna(subset=['도로명'],axis=0,inplace=True)\n",
    "        sub_df.insert(14,'latitude',[np.NaN for k in range(0,len(sub_df))])\n",
    "        sub_df.insert(14,'longitude',[np.NaN for k in range(0,len(sub_df))])\n",
    "        get_lat_lon(sub_df)\n",
    "        # concat함수로 행을 추가하며 병합\n",
    "        sub_df.to_csv(file, encoding='CP949',index=False)\n",
    "        df_officetels = pd.concat([df_officetels, sub_df], ignore_index=True)\n",
    "        print(i,'complete')"
   ]
  },
  {
   "cell_type": "code",
   "execution_count": null,
   "metadata": {},
   "outputs": [
    {
     "name": "stderr",
     "output_type": "stream",
     "text": [
      "C:\\Users\\dhfgo\\AppData\\Local\\Temp\\ipykernel_13456\\626319627.py:20: SettingWithCopyWarning: \n",
      "A value is trying to be set on a copy of a slice from a DataFrame\n",
      "\n",
      "See the caveats in the documentation: https://pandas.pydata.org/pandas-docs/stable/user_guide/indexing.html#returning-a-view-versus-a-copy\n",
      "  df['longitude'].iloc[i] = x\n",
      "C:\\Users\\dhfgo\\AppData\\Local\\Temp\\ipykernel_13456\\626319627.py:21: SettingWithCopyWarning: \n",
      "A value is trying to be set on a copy of a slice from a DataFrame\n",
      "\n",
      "See the caveats in the documentation: https://pandas.pydata.org/pandas-docs/stable/user_guide/indexing.html#returning-a-view-versus-a-copy\n",
      "  df['latitude'].iloc[i] = y\n"
     ]
    },
    {
     "name": "stdout",
     "output_type": "stream",
     "text": [
      "10 complete\n"
     ]
    },
    {
     "name": "stderr",
     "output_type": "stream",
     "text": [
      "C:\\Users\\dhfgo\\AppData\\Local\\Temp\\ipykernel_13456\\626319627.py:20: SettingWithCopyWarning: \n",
      "A value is trying to be set on a copy of a slice from a DataFrame\n",
      "\n",
      "See the caveats in the documentation: https://pandas.pydata.org/pandas-docs/stable/user_guide/indexing.html#returning-a-view-versus-a-copy\n",
      "  df['longitude'].iloc[i] = x\n",
      "C:\\Users\\dhfgo\\AppData\\Local\\Temp\\ipykernel_13456\\626319627.py:21: SettingWithCopyWarning: \n",
      "A value is trying to be set on a copy of a slice from a DataFrame\n",
      "\n",
      "See the caveats in the documentation: https://pandas.pydata.org/pandas-docs/stable/user_guide/indexing.html#returning-a-view-versus-a-copy\n",
      "  df['latitude'].iloc[i] = y\n"
     ]
    },
    {
     "name": "stdout",
     "output_type": "stream",
     "text": [
      "11 complete\n"
     ]
    }
   ],
   "source": [
    "for i in range(10, 12):\n",
    "    if off_forders[i].split('.')[1] == 'csv':\n",
    "        file = '../data/officetels/'+off_forders[i]\n",
    "        # csv파일의 불필요한 주석정보 제거\n",
    "        sub_df = pd.read_csv(file, encoding='CP949',skiprows=15)\n",
    "        sub_df['도로명'].replace(' ',np.nan, inplace=True)\n",
    "        sub_df.dropna(subset=['도로명'],axis=0,inplace=True)\n",
    "        sub_df.insert(14,'latitude',[np.NaN for k in range(0,len(sub_df))])\n",
    "        sub_df.insert(14,'longitude',[np.NaN for k in range(0,len(sub_df))])\n",
    "        get_lat_lon(sub_df)\n",
    "        # concat함수로 행을 추가하며 병합\n",
    "        sub_df.to_csv(file, encoding='CP949',index=False)\n",
    "        df_officetels = pd.concat([df_officetels, sub_df], ignore_index=True)\n",
    "        print(i,'complete')"
   ]
  },
  {
   "cell_type": "code",
   "execution_count": null,
   "metadata": {},
   "outputs": [],
   "source": [
    "df_officetels.to_csv(path_or_buf='오피스텔 실거래가_22-03_23-02', encoding='CP949')"
   ]
  }
 ],
 "metadata": {
  "kernelspec": {
   "display_name": "Python 3.10.4 ('GVCS')",
   "language": "python",
   "name": "python3"
  },
  "language_info": {
   "codemirror_mode": {
    "name": "ipython",
    "version": 3
   },
   "file_extension": ".py",
   "mimetype": "text/x-python",
   "name": "python",
   "nbconvert_exporter": "python",
   "pygments_lexer": "ipython3",
   "version": "3.10.4"
  },
  "orig_nbformat": 4,
  "vscode": {
   "interpreter": {
    "hash": "8690abe85f2d2495ace582ad7dbe6a9e81e0497ab6459d10ec2e5e6d16bd2b59"
   }
  }
 },
 "nbformat": 4,
 "nbformat_minor": 2
}
