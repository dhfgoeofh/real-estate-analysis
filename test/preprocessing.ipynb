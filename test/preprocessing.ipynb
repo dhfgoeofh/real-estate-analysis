{
 "cells": [
  {
   "cell_type": "markdown",
   "metadata": {},
   "source": [
    "### 환경 불러오기"
   ]
  },
  {
   "cell_type": "code",
   "execution_count": 1,
   "metadata": {},
   "outputs": [],
   "source": [
    "import pandas as pd\n",
    "import numpy as np\n",
    "import os\n",
    "import requests\n",
    "import json\n",
    "# copywarning ignore\n",
    "import warnings\n",
    "#from pandas.core.common import SettingWithCopyWarning\n",
    "#warnings.simplefilter(action=\"ignore\", category=SettingWithCopyWarning)"
   ]
  },
  {
   "cell_type": "markdown",
   "metadata": {},
   "source": [
    "#### 오피스텔 도로명 주소 Geocoding - 위도, 경도 추출"
   ]
  },
  {
   "cell_type": "code",
   "execution_count": 2,
   "metadata": {},
   "outputs": [],
   "source": [
    "api_key = '79d3d40921cad65ee45ee1059c974972'\n",
    "\n",
    "def addr_to_lat_lon(addr):\n",
    "    url = 'https://dapi.kakao.com/v2/local/search/address.json?query={address}'.format(address=addr)\n",
    "    headers = {\"Authorization\": \"KakaoAK \" + api_key}\n",
    "    result = json.loads(str(requests.get(url, headers=headers).text))\n",
    "    try:\n",
    "        match_first = result['documents'][0]['road_address']\n",
    "        return float(match_first['x']), float(match_first['y'])\n",
    "    except:\n",
    "        return 0, 0\n",
    "\n",
    "def get_lat_lon(df):\n",
    "    for i in range(0, len(df)):\n",
    "        try:\n",
    "            addr = df.iloc[i]['시군구'] + \" \" + df.iloc[i]['도로명']\n",
    "            x, y = addr_to_lat_lon(addr)\n",
    "        except:\n",
    "            x, y = 0, 0\n",
    "        df['longitude'].iloc[i] = x\n",
    "        df['latitude'].iloc[i] = y\n",
    "    "
   ]
  },
  {
   "cell_type": "markdown",
   "metadata": {},
   "source": [
    "### 오피스텔 실거래 데이터 불러오기(2022.03 ~ 2023.02)"
   ]
  },
  {
   "cell_type": "code",
   "execution_count": 3,
   "metadata": {},
   "outputs": [],
   "source": [
    "# officetels 폴더에 있는 모든 파일명 리스트로 저장\n",
    "off_forders = os.listdir('../data/officetels')\n",
    "# csv 파일을 모두 불러와서 병합\n",
    "df_officetels = pd.DataFrame()"
   ]
  },
  {
   "cell_type": "code",
   "execution_count": 26,
   "metadata": {},
   "outputs": [
    {
     "name": "stderr",
     "output_type": "stream",
     "text": [
      "C:\\Users\\dhfgo\\AppData\\Local\\Temp\\ipykernel_13456\\4107615977.py:20: SettingWithCopyWarning: \n",
      "A value is trying to be set on a copy of a slice from a DataFrame\n",
      "\n",
      "See the caveats in the documentation: https://pandas.pydata.org/pandas-docs/stable/user_guide/indexing.html#returning-a-view-versus-a-copy\n",
      "  df['longitude'].iloc[i] = x\n",
      "C:\\Users\\dhfgo\\AppData\\Local\\Temp\\ipykernel_13456\\4107615977.py:21: SettingWithCopyWarning: \n",
      "A value is trying to be set on a copy of a slice from a DataFrame\n",
      "\n",
      "See the caveats in the documentation: https://pandas.pydata.org/pandas-docs/stable/user_guide/indexing.html#returning-a-view-versus-a-copy\n",
      "  df['latitude'].iloc[i] = y\n"
     ]
    },
    {
     "name": "stdout",
     "output_type": "stream",
     "text": [
      "0 complete\n"
     ]
    },
    {
     "name": "stderr",
     "output_type": "stream",
     "text": [
      "C:\\Users\\dhfgo\\AppData\\Local\\Temp\\ipykernel_13456\\4107615977.py:20: SettingWithCopyWarning: \n",
      "A value is trying to be set on a copy of a slice from a DataFrame\n",
      "\n",
      "See the caveats in the documentation: https://pandas.pydata.org/pandas-docs/stable/user_guide/indexing.html#returning-a-view-versus-a-copy\n",
      "  df['longitude'].iloc[i] = x\n",
      "C:\\Users\\dhfgo\\AppData\\Local\\Temp\\ipykernel_13456\\4107615977.py:21: SettingWithCopyWarning: \n",
      "A value is trying to be set on a copy of a slice from a DataFrame\n",
      "\n",
      "See the caveats in the documentation: https://pandas.pydata.org/pandas-docs/stable/user_guide/indexing.html#returning-a-view-versus-a-copy\n",
      "  df['latitude'].iloc[i] = y\n"
     ]
    },
    {
     "name": "stdout",
     "output_type": "stream",
     "text": [
      "1 complete\n"
     ]
    },
    {
     "data": {
      "text/html": [
       "<div>\n",
       "<style scoped>\n",
       "    .dataframe tbody tr th:only-of-type {\n",
       "        vertical-align: middle;\n",
       "    }\n",
       "\n",
       "    .dataframe tbody tr th {\n",
       "        vertical-align: top;\n",
       "    }\n",
       "\n",
       "    .dataframe thead th {\n",
       "        text-align: right;\n",
       "    }\n",
       "</style>\n",
       "<table border=\"1\" class=\"dataframe\">\n",
       "  <thead>\n",
       "    <tr style=\"text-align: right;\">\n",
       "      <th></th>\n",
       "      <th>시군구</th>\n",
       "      <th>번지</th>\n",
       "      <th>본번</th>\n",
       "      <th>부번</th>\n",
       "      <th>단지명</th>\n",
       "      <th>전월세구분</th>\n",
       "      <th>전용면적(㎡)</th>\n",
       "      <th>계약년월</th>\n",
       "      <th>계약일</th>\n",
       "      <th>보증금(만원)</th>\n",
       "      <th>...</th>\n",
       "      <th>층</th>\n",
       "      <th>건축년도</th>\n",
       "      <th>도로명</th>\n",
       "      <th>longitude</th>\n",
       "      <th>latitude</th>\n",
       "      <th>계약기간</th>\n",
       "      <th>계약구분</th>\n",
       "      <th>갱신요구권 사용</th>\n",
       "      <th>종전계약 보증금 (만원)</th>\n",
       "      <th>종전계약 월세 (만원)</th>\n",
       "    </tr>\n",
       "  </thead>\n",
       "  <tbody>\n",
       "    <tr>\n",
       "      <th>0</th>\n",
       "      <td>강원도 강릉시 교동</td>\n",
       "      <td>140-16</td>\n",
       "      <td>140</td>\n",
       "      <td>16</td>\n",
       "      <td>강릉역 블루핀</td>\n",
       "      <td>월세</td>\n",
       "      <td>22.00</td>\n",
       "      <td>202203</td>\n",
       "      <td>11</td>\n",
       "      <td>400</td>\n",
       "      <td>...</td>\n",
       "      <td>7</td>\n",
       "      <td>2020.0</td>\n",
       "      <td>강릉대로 285</td>\n",
       "      <td>128.899711</td>\n",
       "      <td>37.762775</td>\n",
       "      <td>202203~202303</td>\n",
       "      <td>신규</td>\n",
       "      <td>-</td>\n",
       "      <td>0</td>\n",
       "      <td>0.0</td>\n",
       "    </tr>\n",
       "    <tr>\n",
       "      <th>1</th>\n",
       "      <td>강원도 강릉시 교동</td>\n",
       "      <td>140-16</td>\n",
       "      <td>140</td>\n",
       "      <td>16</td>\n",
       "      <td>강릉역 블루핀</td>\n",
       "      <td>월세</td>\n",
       "      <td>22.00</td>\n",
       "      <td>202203</td>\n",
       "      <td>19</td>\n",
       "      <td>500</td>\n",
       "      <td>...</td>\n",
       "      <td>13</td>\n",
       "      <td>2020.0</td>\n",
       "      <td>강릉대로 285</td>\n",
       "      <td>128.899711</td>\n",
       "      <td>37.762775</td>\n",
       "      <td>202206~202305</td>\n",
       "      <td>신규</td>\n",
       "      <td>-</td>\n",
       "      <td>0</td>\n",
       "      <td>0.0</td>\n",
       "    </tr>\n",
       "    <tr>\n",
       "      <th>2</th>\n",
       "      <td>강원도 강릉시 교동</td>\n",
       "      <td>140-16</td>\n",
       "      <td>140</td>\n",
       "      <td>16</td>\n",
       "      <td>강릉역 블루핀</td>\n",
       "      <td>월세</td>\n",
       "      <td>22.00</td>\n",
       "      <td>202203</td>\n",
       "      <td>23</td>\n",
       "      <td>50</td>\n",
       "      <td>...</td>\n",
       "      <td>11</td>\n",
       "      <td>2020.0</td>\n",
       "      <td>강릉대로 285</td>\n",
       "      <td>128.899711</td>\n",
       "      <td>37.762775</td>\n",
       "      <td>202203~202304</td>\n",
       "      <td>신규</td>\n",
       "      <td>-</td>\n",
       "      <td>0</td>\n",
       "      <td>0.0</td>\n",
       "    </tr>\n",
       "    <tr>\n",
       "      <th>3</th>\n",
       "      <td>강원도 강릉시 교동</td>\n",
       "      <td>140-16</td>\n",
       "      <td>140</td>\n",
       "      <td>16</td>\n",
       "      <td>강릉역 블루핀</td>\n",
       "      <td>월세</td>\n",
       "      <td>22.00</td>\n",
       "      <td>202203</td>\n",
       "      <td>25</td>\n",
       "      <td>500</td>\n",
       "      <td>...</td>\n",
       "      <td>11</td>\n",
       "      <td>2020.0</td>\n",
       "      <td>강릉대로 285</td>\n",
       "      <td>128.899711</td>\n",
       "      <td>37.762775</td>\n",
       "      <td>202204~202404</td>\n",
       "      <td>신규</td>\n",
       "      <td>-</td>\n",
       "      <td>0</td>\n",
       "      <td>0.0</td>\n",
       "    </tr>\n",
       "    <tr>\n",
       "      <th>4</th>\n",
       "      <td>강원도 강릉시 교동</td>\n",
       "      <td>140-16</td>\n",
       "      <td>140</td>\n",
       "      <td>16</td>\n",
       "      <td>강릉역 블루핀</td>\n",
       "      <td>월세</td>\n",
       "      <td>22.00</td>\n",
       "      <td>202203</td>\n",
       "      <td>27</td>\n",
       "      <td>500</td>\n",
       "      <td>...</td>\n",
       "      <td>11</td>\n",
       "      <td>2020.0</td>\n",
       "      <td>강릉대로 285</td>\n",
       "      <td>128.899711</td>\n",
       "      <td>37.762775</td>\n",
       "      <td>202205~202305</td>\n",
       "      <td>신규</td>\n",
       "      <td>-</td>\n",
       "      <td>0</td>\n",
       "      <td>0.0</td>\n",
       "    </tr>\n",
       "    <tr>\n",
       "      <th>...</th>\n",
       "      <td>...</td>\n",
       "      <td>...</td>\n",
       "      <td>...</td>\n",
       "      <td>...</td>\n",
       "      <td>...</td>\n",
       "      <td>...</td>\n",
       "      <td>...</td>\n",
       "      <td>...</td>\n",
       "      <td>...</td>\n",
       "      <td>...</td>\n",
       "      <td>...</td>\n",
       "      <td>...</td>\n",
       "      <td>...</td>\n",
       "      <td>...</td>\n",
       "      <td>...</td>\n",
       "      <td>...</td>\n",
       "      <td>...</td>\n",
       "      <td>...</td>\n",
       "      <td>...</td>\n",
       "      <td>...</td>\n",
       "      <td>...</td>\n",
       "    </tr>\n",
       "    <tr>\n",
       "      <th>31074</th>\n",
       "      <td>충청북도 청주흥덕구 오송읍 연제리</td>\n",
       "      <td>664</td>\n",
       "      <td>664</td>\n",
       "      <td>0</td>\n",
       "      <td>두산위브 센티움</td>\n",
       "      <td>월세</td>\n",
       "      <td>25.17</td>\n",
       "      <td>202204</td>\n",
       "      <td>30</td>\n",
       "      <td>331</td>\n",
       "      <td>...</td>\n",
       "      <td>11</td>\n",
       "      <td>2014.0</td>\n",
       "      <td>오송생명3로 31</td>\n",
       "      <td>127.328279</td>\n",
       "      <td>36.635157</td>\n",
       "      <td>202205~202305</td>\n",
       "      <td>갱신</td>\n",
       "      <td>-</td>\n",
       "      <td>315</td>\n",
       "      <td>32.0</td>\n",
       "    </tr>\n",
       "    <tr>\n",
       "      <th>31075</th>\n",
       "      <td>충청북도 충주시 금릉동</td>\n",
       "      <td>49</td>\n",
       "      <td>49</td>\n",
       "      <td>0</td>\n",
       "      <td>L팰리스타워(주상복합) 3차</td>\n",
       "      <td>월세</td>\n",
       "      <td>45.52</td>\n",
       "      <td>202204</td>\n",
       "      <td>22</td>\n",
       "      <td>5,000</td>\n",
       "      <td>...</td>\n",
       "      <td>2</td>\n",
       "      <td>2021.0</td>\n",
       "      <td>응골2길 11</td>\n",
       "      <td>127.929575</td>\n",
       "      <td>36.992644</td>\n",
       "      <td>-</td>\n",
       "      <td>-</td>\n",
       "      <td>-</td>\n",
       "      <td>NaN</td>\n",
       "      <td>NaN</td>\n",
       "    </tr>\n",
       "    <tr>\n",
       "      <th>31076</th>\n",
       "      <td>충청북도 충주시 금릉동</td>\n",
       "      <td>49</td>\n",
       "      <td>49</td>\n",
       "      <td>0</td>\n",
       "      <td>L팰리스타워(주상복합) 3차</td>\n",
       "      <td>월세</td>\n",
       "      <td>45.52</td>\n",
       "      <td>202204</td>\n",
       "      <td>25</td>\n",
       "      <td>5,000</td>\n",
       "      <td>...</td>\n",
       "      <td>3</td>\n",
       "      <td>2021.0</td>\n",
       "      <td>응골2길 11</td>\n",
       "      <td>127.929575</td>\n",
       "      <td>36.992644</td>\n",
       "      <td>-</td>\n",
       "      <td>-</td>\n",
       "      <td>-</td>\n",
       "      <td>NaN</td>\n",
       "      <td>NaN</td>\n",
       "    </tr>\n",
       "    <tr>\n",
       "      <th>31077</th>\n",
       "      <td>충청북도 충주시 금릉동</td>\n",
       "      <td>49</td>\n",
       "      <td>49</td>\n",
       "      <td>0</td>\n",
       "      <td>L팰리스타워(주상복합) 3차</td>\n",
       "      <td>월세</td>\n",
       "      <td>45.05</td>\n",
       "      <td>202204</td>\n",
       "      <td>27</td>\n",
       "      <td>5,000</td>\n",
       "      <td>...</td>\n",
       "      <td>2</td>\n",
       "      <td>2021.0</td>\n",
       "      <td>응골2길 11</td>\n",
       "      <td>127.929575</td>\n",
       "      <td>36.992644</td>\n",
       "      <td>-</td>\n",
       "      <td>-</td>\n",
       "      <td>-</td>\n",
       "      <td>NaN</td>\n",
       "      <td>NaN</td>\n",
       "    </tr>\n",
       "    <tr>\n",
       "      <th>31078</th>\n",
       "      <td>충청북도 충주시 주덕읍 화곡리</td>\n",
       "      <td>1207</td>\n",
       "      <td>1207</td>\n",
       "      <td>0</td>\n",
       "      <td>시그니처시티</td>\n",
       "      <td>월세</td>\n",
       "      <td>18.82</td>\n",
       "      <td>202204</td>\n",
       "      <td>21</td>\n",
       "      <td>500</td>\n",
       "      <td>...</td>\n",
       "      <td>4</td>\n",
       "      <td>2020.0</td>\n",
       "      <td>기업도시2로 152</td>\n",
       "      <td>127.816580</td>\n",
       "      <td>37.004184</td>\n",
       "      <td>-</td>\n",
       "      <td>-</td>\n",
       "      <td>-</td>\n",
       "      <td>NaN</td>\n",
       "      <td>NaN</td>\n",
       "    </tr>\n",
       "  </tbody>\n",
       "</table>\n",
       "<p>31079 rows × 21 columns</p>\n",
       "</div>"
      ],
      "text/plain": [
       "                      시군구      번지    본번  부번              단지명 전월세구분  전용면적(㎡)  \\\n",
       "0              강원도 강릉시 교동  140-16   140  16          강릉역 블루핀    월세    22.00   \n",
       "1              강원도 강릉시 교동  140-16   140  16          강릉역 블루핀    월세    22.00   \n",
       "2              강원도 강릉시 교동  140-16   140  16          강릉역 블루핀    월세    22.00   \n",
       "3              강원도 강릉시 교동  140-16   140  16          강릉역 블루핀    월세    22.00   \n",
       "4              강원도 강릉시 교동  140-16   140  16          강릉역 블루핀    월세    22.00   \n",
       "...                   ...     ...   ...  ..              ...   ...      ...   \n",
       "31074  충청북도 청주흥덕구 오송읍 연제리     664   664   0         두산위브 센티움    월세    25.17   \n",
       "31075        충청북도 충주시 금릉동      49    49   0  L팰리스타워(주상복합) 3차    월세    45.52   \n",
       "31076        충청북도 충주시 금릉동      49    49   0  L팰리스타워(주상복합) 3차    월세    45.52   \n",
       "31077        충청북도 충주시 금릉동      49    49   0  L팰리스타워(주상복합) 3차    월세    45.05   \n",
       "31078    충청북도 충주시 주덕읍 화곡리    1207  1207   0           시그니처시티    월세    18.82   \n",
       "\n",
       "         계약년월  계약일 보증금(만원)  ...   층    건축년도         도로명   longitude  \\\n",
       "0      202203   11     400  ...   7  2020.0    강릉대로 285  128.899711   \n",
       "1      202203   19     500  ...  13  2020.0    강릉대로 285  128.899711   \n",
       "2      202203   23      50  ...  11  2020.0    강릉대로 285  128.899711   \n",
       "3      202203   25     500  ...  11  2020.0    강릉대로 285  128.899711   \n",
       "4      202203   27     500  ...  11  2020.0    강릉대로 285  128.899711   \n",
       "...       ...  ...     ...  ...  ..     ...         ...         ...   \n",
       "31074  202204   30     331  ...  11  2014.0   오송생명3로 31  127.328279   \n",
       "31075  202204   22   5,000  ...   2  2021.0     응골2길 11  127.929575   \n",
       "31076  202204   25   5,000  ...   3  2021.0     응골2길 11  127.929575   \n",
       "31077  202204   27   5,000  ...   2  2021.0     응골2길 11  127.929575   \n",
       "31078  202204   21     500  ...   4  2020.0  기업도시2로 152  127.816580   \n",
       "\n",
       "        latitude           계약기간 계약구분 갱신요구권 사용 종전계약 보증금 (만원) 종전계약 월세 (만원)  \n",
       "0      37.762775  202203~202303   신규        -             0          0.0  \n",
       "1      37.762775  202206~202305   신규        -             0          0.0  \n",
       "2      37.762775  202203~202304   신규        -             0          0.0  \n",
       "3      37.762775  202204~202404   신규        -             0          0.0  \n",
       "4      37.762775  202205~202305   신규        -             0          0.0  \n",
       "...          ...            ...  ...      ...           ...          ...  \n",
       "31074  36.635157  202205~202305   갱신        -           315         32.0  \n",
       "31075  36.992644              -    -        -           NaN          NaN  \n",
       "31076  36.992644              -    -        -           NaN          NaN  \n",
       "31077  36.992644              -    -        -           NaN          NaN  \n",
       "31078  37.004184              -    -        -           NaN          NaN  \n",
       "\n",
       "[31079 rows x 21 columns]"
      ]
     },
     "execution_count": 26,
     "metadata": {},
     "output_type": "execute_result"
    }
   ],
   "source": [
    "for i in range(0, 2):\n",
    "    if off_forders[i].split('.')[1] == 'csv':\n",
    "        file = '../data/officetels/'+off_forders[i]\n",
    "        # csv파일의 불필요한 주석정보 제거\n",
    "        sub_df = pd.read_csv(file, encoding='CP949',skiprows=15)\n",
    "        sub_df['도로명'].replace(' ',np.nan, inplace=True)\n",
    "        sub_df.dropna(subset=['도로명'],axis=0,inplace=True)\n",
    "        sub_df.insert(14,'latitude',[np.NaN for k in range(0,len(sub_df))])\n",
    "        sub_df.insert(14,'longitude',[np.NaN for k in range(0,len(sub_df))])\n",
    "        get_lat_lon(sub_df)\n",
    "        # concat함수로 행을 추가하며 병합\n",
    "        sub_df.to_csv(file, encoding='CP949',index=False)\n",
    "        df_officetels = pd.concat([df_officetels, sub_df], ignore_index=True)\n",
    "        print(i,'complete')\n",
    "# 도로명 주소가 없는 행은 제거\n",
    "df_officetels"
   ]
  },
  {
   "cell_type": "code",
   "execution_count": 27,
   "metadata": {},
   "outputs": [
    {
     "name": "stderr",
     "output_type": "stream",
     "text": [
      "C:\\Users\\dhfgo\\AppData\\Local\\Temp\\ipykernel_13456\\4107615977.py:20: SettingWithCopyWarning: \n",
      "A value is trying to be set on a copy of a slice from a DataFrame\n",
      "\n",
      "See the caveats in the documentation: https://pandas.pydata.org/pandas-docs/stable/user_guide/indexing.html#returning-a-view-versus-a-copy\n",
      "  df['longitude'].iloc[i] = x\n",
      "C:\\Users\\dhfgo\\AppData\\Local\\Temp\\ipykernel_13456\\4107615977.py:21: SettingWithCopyWarning: \n",
      "A value is trying to be set on a copy of a slice from a DataFrame\n",
      "\n",
      "See the caveats in the documentation: https://pandas.pydata.org/pandas-docs/stable/user_guide/indexing.html#returning-a-view-versus-a-copy\n",
      "  df['latitude'].iloc[i] = y\n"
     ]
    },
    {
     "name": "stdout",
     "output_type": "stream",
     "text": [
      "2 complete\n"
     ]
    },
    {
     "name": "stderr",
     "output_type": "stream",
     "text": [
      "C:\\Users\\dhfgo\\AppData\\Local\\Temp\\ipykernel_13456\\4107615977.py:20: SettingWithCopyWarning: \n",
      "A value is trying to be set on a copy of a slice from a DataFrame\n",
      "\n",
      "See the caveats in the documentation: https://pandas.pydata.org/pandas-docs/stable/user_guide/indexing.html#returning-a-view-versus-a-copy\n",
      "  df['longitude'].iloc[i] = x\n",
      "C:\\Users\\dhfgo\\AppData\\Local\\Temp\\ipykernel_13456\\4107615977.py:21: SettingWithCopyWarning: \n",
      "A value is trying to be set on a copy of a slice from a DataFrame\n",
      "\n",
      "See the caveats in the documentation: https://pandas.pydata.org/pandas-docs/stable/user_guide/indexing.html#returning-a-view-versus-a-copy\n",
      "  df['latitude'].iloc[i] = y\n"
     ]
    },
    {
     "name": "stdout",
     "output_type": "stream",
     "text": [
      "3 complete\n"
     ]
    }
   ],
   "source": [
    "for i in range(2, 4):\n",
    "    if off_forders[i].split('.')[1] == 'csv':\n",
    "        file = '../data/officetels/'+off_forders[i]\n",
    "        # csv파일의 불필요한 주석정보 제거\n",
    "        sub_df = pd.read_csv(file, encoding='CP949',skiprows=15)\n",
    "        sub_df['도로명'].replace(' ',np.nan, inplace=True)\n",
    "        sub_df.dropna(subset=['도로명'],axis=0,inplace=True)\n",
    "        sub_df.insert(14,'latitude',[np.NaN for k in range(0,len(sub_df))])\n",
    "        sub_df.insert(14,'longitude',[np.NaN for k in range(0,len(sub_df))])\n",
    "        get_lat_lon(sub_df)\n",
    "        # concat함수로 행을 추가하며 병합\n",
    "        sub_df.to_csv(file, encoding='CP949',index=False)\n",
    "        df_officetels = pd.concat([df_officetels, sub_df], ignore_index=True)\n",
    "        print(i,'complete')"
   ]
  },
  {
   "cell_type": "code",
   "execution_count": 28,
   "metadata": {},
   "outputs": [
    {
     "name": "stderr",
     "output_type": "stream",
     "text": [
      "C:\\Users\\dhfgo\\AppData\\Local\\Temp\\ipykernel_13456\\4107615977.py:20: SettingWithCopyWarning: \n",
      "A value is trying to be set on a copy of a slice from a DataFrame\n",
      "\n",
      "See the caveats in the documentation: https://pandas.pydata.org/pandas-docs/stable/user_guide/indexing.html#returning-a-view-versus-a-copy\n",
      "  df['longitude'].iloc[i] = x\n",
      "C:\\Users\\dhfgo\\AppData\\Local\\Temp\\ipykernel_13456\\4107615977.py:21: SettingWithCopyWarning: \n",
      "A value is trying to be set on a copy of a slice from a DataFrame\n",
      "\n",
      "See the caveats in the documentation: https://pandas.pydata.org/pandas-docs/stable/user_guide/indexing.html#returning-a-view-versus-a-copy\n",
      "  df['latitude'].iloc[i] = y\n"
     ]
    },
    {
     "name": "stdout",
     "output_type": "stream",
     "text": [
      "4 complete\n"
     ]
    },
    {
     "name": "stderr",
     "output_type": "stream",
     "text": [
      "C:\\Users\\dhfgo\\AppData\\Local\\Temp\\ipykernel_13456\\4107615977.py:20: SettingWithCopyWarning: \n",
      "A value is trying to be set on a copy of a slice from a DataFrame\n",
      "\n",
      "See the caveats in the documentation: https://pandas.pydata.org/pandas-docs/stable/user_guide/indexing.html#returning-a-view-versus-a-copy\n",
      "  df['longitude'].iloc[i] = x\n",
      "C:\\Users\\dhfgo\\AppData\\Local\\Temp\\ipykernel_13456\\4107615977.py:21: SettingWithCopyWarning: \n",
      "A value is trying to be set on a copy of a slice from a DataFrame\n",
      "\n",
      "See the caveats in the documentation: https://pandas.pydata.org/pandas-docs/stable/user_guide/indexing.html#returning-a-view-versus-a-copy\n",
      "  df['latitude'].iloc[i] = y\n"
     ]
    },
    {
     "name": "stdout",
     "output_type": "stream",
     "text": [
      "5 complete\n"
     ]
    }
   ],
   "source": [
    "for i in range(4, 6):\n",
    "    if off_forders[i].split('.')[1] == 'csv':\n",
    "        file = '../data/officetels/'+off_forders[i]\n",
    "        # csv파일의 불필요한 주석정보 제거\n",
    "        sub_df = pd.read_csv(file, encoding='CP949',skiprows=15)\n",
    "        sub_df['도로명'].replace(' ',np.nan, inplace=True)\n",
    "        sub_df.dropna(subset=['도로명'],axis=0,inplace=True)\n",
    "        sub_df.insert(14,'latitude',[np.NaN for k in range(0,len(sub_df))])\n",
    "        sub_df.insert(14,'longitude',[np.NaN for k in range(0,len(sub_df))])\n",
    "        get_lat_lon(sub_df)\n",
    "        # concat함수로 행을 추가하며 병합\n",
    "        sub_df.to_csv(file, encoding='CP949',index=False)\n",
    "        df_officetels = pd.concat([df_officetels, sub_df], ignore_index=True)\n",
    "        print(i,'complete')"
   ]
  },
  {
   "cell_type": "code",
   "execution_count": 29,
   "metadata": {},
   "outputs": [
    {
     "name": "stderr",
     "output_type": "stream",
     "text": [
      "C:\\Users\\dhfgo\\AppData\\Local\\Temp\\ipykernel_13456\\4107615977.py:20: SettingWithCopyWarning: \n",
      "A value is trying to be set on a copy of a slice from a DataFrame\n",
      "\n",
      "See the caveats in the documentation: https://pandas.pydata.org/pandas-docs/stable/user_guide/indexing.html#returning-a-view-versus-a-copy\n",
      "  df['longitude'].iloc[i] = x\n",
      "C:\\Users\\dhfgo\\AppData\\Local\\Temp\\ipykernel_13456\\4107615977.py:21: SettingWithCopyWarning: \n",
      "A value is trying to be set on a copy of a slice from a DataFrame\n",
      "\n",
      "See the caveats in the documentation: https://pandas.pydata.org/pandas-docs/stable/user_guide/indexing.html#returning-a-view-versus-a-copy\n",
      "  df['latitude'].iloc[i] = y\n"
     ]
    },
    {
     "name": "stdout",
     "output_type": "stream",
     "text": [
      "6 complete\n"
     ]
    },
    {
     "name": "stderr",
     "output_type": "stream",
     "text": [
      "C:\\Users\\dhfgo\\AppData\\Local\\Temp\\ipykernel_13456\\4107615977.py:20: SettingWithCopyWarning: \n",
      "A value is trying to be set on a copy of a slice from a DataFrame\n",
      "\n",
      "See the caveats in the documentation: https://pandas.pydata.org/pandas-docs/stable/user_guide/indexing.html#returning-a-view-versus-a-copy\n",
      "  df['longitude'].iloc[i] = x\n",
      "C:\\Users\\dhfgo\\AppData\\Local\\Temp\\ipykernel_13456\\4107615977.py:21: SettingWithCopyWarning: \n",
      "A value is trying to be set on a copy of a slice from a DataFrame\n",
      "\n",
      "See the caveats in the documentation: https://pandas.pydata.org/pandas-docs/stable/user_guide/indexing.html#returning-a-view-versus-a-copy\n",
      "  df['latitude'].iloc[i] = y\n"
     ]
    },
    {
     "name": "stdout",
     "output_type": "stream",
     "text": [
      "7 complete\n"
     ]
    }
   ],
   "source": [
    "for i in range(6, 8):\n",
    "    if off_forders[i].split('.')[1] == 'csv':\n",
    "        file = '../data/officetels/'+off_forders[i]\n",
    "        # csv파일의 불필요한 주석정보 제거\n",
    "        sub_df = pd.read_csv(file, encoding='CP949',skiprows=15)\n",
    "        sub_df['도로명'].replace(' ',np.nan, inplace=True)\n",
    "        sub_df.dropna(subset=['도로명'],axis=0,inplace=True)\n",
    "        sub_df.insert(14,'latitude',[np.NaN for k in range(0,len(sub_df))])\n",
    "        sub_df.insert(14,'longitude',[np.NaN for k in range(0,len(sub_df))])\n",
    "        get_lat_lon(sub_df)\n",
    "        # concat함수로 행을 추가하며 병합\n",
    "        sub_df.to_csv(file, encoding='CP949',index=False)\n",
    "        df_officetels = pd.concat([df_officetels, sub_df], ignore_index=True)\n",
    "        print(i,'complete')"
   ]
  },
  {
   "cell_type": "code",
   "execution_count": 4,
   "metadata": {},
   "outputs": [
    {
     "name": "stderr",
     "output_type": "stream",
     "text": [
      "C:\\Users\\dhfgo\\AppData\\Local\\Temp\\ipykernel_3596\\4107615977.py:20: SettingWithCopyWarning: \n",
      "A value is trying to be set on a copy of a slice from a DataFrame\n",
      "\n",
      "See the caveats in the documentation: https://pandas.pydata.org/pandas-docs/stable/user_guide/indexing.html#returning-a-view-versus-a-copy\n",
      "  df['longitude'].iloc[i] = x\n",
      "C:\\Users\\dhfgo\\AppData\\Local\\Temp\\ipykernel_3596\\4107615977.py:21: SettingWithCopyWarning: \n",
      "A value is trying to be set on a copy of a slice from a DataFrame\n",
      "\n",
      "See the caveats in the documentation: https://pandas.pydata.org/pandas-docs/stable/user_guide/indexing.html#returning-a-view-versus-a-copy\n",
      "  df['latitude'].iloc[i] = y\n"
     ]
    },
    {
     "name": "stdout",
     "output_type": "stream",
     "text": [
      "9 complete\n"
     ]
    }
   ],
   "source": [
    "for i in range(9, 10):\n",
    "    if off_forders[i].split('.')[1] == 'csv':\n",
    "        file = '../data/officetels/'+off_forders[i]\n",
    "        # csv파일의 불필요한 주석정보 제거\n",
    "        sub_df = pd.read_csv(file, encoding='CP949',skiprows=15)\n",
    "        sub_df['도로명'].replace(' ',np.nan, inplace=True)\n",
    "        sub_df.dropna(subset=['도로명'],axis=0,inplace=True)\n",
    "        sub_df.insert(14,'latitude',[np.NaN for k in range(0,len(sub_df))])\n",
    "        sub_df.insert(14,'longitude',[np.NaN for k in range(0,len(sub_df))])\n",
    "        get_lat_lon(sub_df)\n",
    "        # concat함수로 행을 추가하며 병합\n",
    "        sub_df.to_csv(file, encoding='CP949',index=False)\n",
    "        df_officetels = pd.concat([df_officetels, sub_df], ignore_index=True)\n",
    "        print(i,'complete')"
   ]
  },
  {
   "cell_type": "code",
   "execution_count": 5,
   "metadata": {},
   "outputs": [
    {
     "name": "stderr",
     "output_type": "stream",
     "text": [
      "C:\\Users\\dhfgo\\AppData\\Local\\Temp\\ipykernel_3596\\4107615977.py:20: SettingWithCopyWarning: \n",
      "A value is trying to be set on a copy of a slice from a DataFrame\n",
      "\n",
      "See the caveats in the documentation: https://pandas.pydata.org/pandas-docs/stable/user_guide/indexing.html#returning-a-view-versus-a-copy\n",
      "  df['longitude'].iloc[i] = x\n",
      "C:\\Users\\dhfgo\\AppData\\Local\\Temp\\ipykernel_3596\\4107615977.py:21: SettingWithCopyWarning: \n",
      "A value is trying to be set on a copy of a slice from a DataFrame\n",
      "\n",
      "See the caveats in the documentation: https://pandas.pydata.org/pandas-docs/stable/user_guide/indexing.html#returning-a-view-versus-a-copy\n",
      "  df['latitude'].iloc[i] = y\n"
     ]
    },
    {
     "name": "stdout",
     "output_type": "stream",
     "text": [
      "10 complete\n"
     ]
    },
    {
     "name": "stderr",
     "output_type": "stream",
     "text": [
      "C:\\Users\\dhfgo\\AppData\\Local\\Temp\\ipykernel_3596\\4107615977.py:20: SettingWithCopyWarning: \n",
      "A value is trying to be set on a copy of a slice from a DataFrame\n",
      "\n",
      "See the caveats in the documentation: https://pandas.pydata.org/pandas-docs/stable/user_guide/indexing.html#returning-a-view-versus-a-copy\n",
      "  df['longitude'].iloc[i] = x\n",
      "C:\\Users\\dhfgo\\AppData\\Local\\Temp\\ipykernel_3596\\4107615977.py:21: SettingWithCopyWarning: \n",
      "A value is trying to be set on a copy of a slice from a DataFrame\n",
      "\n",
      "See the caveats in the documentation: https://pandas.pydata.org/pandas-docs/stable/user_guide/indexing.html#returning-a-view-versus-a-copy\n",
      "  df['latitude'].iloc[i] = y\n"
     ]
    },
    {
     "name": "stdout",
     "output_type": "stream",
     "text": [
      "11 complete\n"
     ]
    }
   ],
   "source": [
    "for i in range(10, 12):\n",
    "    if off_forders[i].split('.')[1] == 'csv':\n",
    "        file = '../data/officetels/'+off_forders[i]\n",
    "        # csv파일의 불필요한 주석정보 제거\n",
    "        sub_df = pd.read_csv(file, encoding='CP949',skiprows=15)\n",
    "        sub_df['도로명'].replace(' ',np.nan, inplace=True)\n",
    "        sub_df.dropna(subset=['도로명'],axis=0,inplace=True)\n",
    "        sub_df.insert(14,'latitude',[np.NaN for k in range(0,len(sub_df))])\n",
    "        sub_df.insert(14,'longitude',[np.NaN for k in range(0,len(sub_df))])\n",
    "        get_lat_lon(sub_df)\n",
    "        # concat함수로 행을 추가하며 병합\n",
    "        sub_df.to_csv(file, encoding='CP949',index=False)\n",
    "        df_officetels = pd.concat([df_officetels, sub_df], ignore_index=True)\n",
    "        print(i,'complete')"
   ]
  },
  {
   "cell_type": "code",
   "execution_count": 6,
   "metadata": {},
   "outputs": [],
   "source": [
    "df_officetels.to_csv(path_or_buf='오피스텔 실거래가_22-03_23-02', encoding='CP949')"
   ]
  }
 ],
 "metadata": {
  "kernelspec": {
   "display_name": "Python 3.10.4 ('GVCS')",
   "language": "python",
   "name": "python3"
  },
  "language_info": {
   "codemirror_mode": {
    "name": "ipython",
    "version": 3
   },
   "file_extension": ".py",
   "mimetype": "text/x-python",
   "name": "python",
   "nbconvert_exporter": "python",
   "pygments_lexer": "ipython3",
   "version": "3.10.4"
  },
  "orig_nbformat": 4,
  "vscode": {
   "interpreter": {
    "hash": "8690abe85f2d2495ace582ad7dbe6a9e81e0497ab6459d10ec2e5e6d16bd2b59"
   }
  }
 },
 "nbformat": 4,
 "nbformat_minor": 2
}
